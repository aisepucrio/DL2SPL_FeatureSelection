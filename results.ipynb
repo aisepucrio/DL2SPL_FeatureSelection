{
 "cells": [
  {
   "cell_type": "code",
   "execution_count": 1,
   "id": "956a38b4-541a-4006-8ce0-1423defd9e22",
   "metadata": {},
   "outputs": [
    {
     "ename": "NameError",
     "evalue": "name 'test_dataset' is not defined",
     "output_type": "error",
     "traceback": [
      "\u001b[0;31m---------------------------------------------------------------------------\u001b[0m",
      "\u001b[0;31mNameError\u001b[0m                                 Traceback (most recent call last)",
      "Cell \u001b[0;32mIn[1], line 1\u001b[0m\n\u001b[0;32m----> 1\u001b[0m num_features \u001b[38;5;241m=\u001b[39m \u001b[43mtest_dataset\u001b[49m\u001b[38;5;241m.\u001b[39mfeatures\u001b[38;5;241m.\u001b[39mshape[\u001b[38;5;241m1\u001b[39m]\n\u001b[1;32m      3\u001b[0m \u001b[38;5;66;03m# Defina o caminho para o checkpoint do modelo treinado\u001b[39;00m\n\u001b[1;32m      4\u001b[0m best_model_path \u001b[38;5;241m=\u001b[39m \u001b[38;5;124m\"\u001b[39m\u001b[38;5;124mlogs_DecisionTree/checkpoints_epoch-34-val_loss-12.34.ckpt\u001b[39m\u001b[38;5;124m\"\u001b[39m\n",
      "\u001b[0;31mNameError\u001b[0m: name 'test_dataset' is not defined"
     ]
    }
   ],
   "source": [
    "num_features = test_dataset.features.shape[1]\n",
    "\n",
    "# Defina o caminho para o checkpoint do modelo treinado\n",
    "best_model_path = \"logs_DecisionTree/checkpoints_epoch-34-val_loss-12.34.ckpt\"\n",
    "\n",
    "# Carrega o modelo treinado a partir do checkpoint, passando o num_features calculado\n",
    "loaded_model = LightningModel.load_from_checkpoint(\n",
    "    best_model_path,\n",
    "    num_features=num_features,  # Valor calculado aqui\n",
    "    activation=\"ELU\",\n",
    "    optimizer_name=\"Adam\",\n",
    "    loss_name=\"MAE\"\n",
    ")\n",
    "loaded_model.eval()  # Coloca o modelo em modo de avaliação\n",
    "\n",
    "# Plota os resultados utilizando o conjunto de teste\n",
    "plot_results(loaded_model, test_dataset)"
   ]
  },
  {
   "cell_type": "code",
   "execution_count": null,
   "id": "e0bf510c-1202-4d66-b5fc-e476fddeb62e",
   "metadata": {},
   "outputs": [],
   "source": []
  }
 ],
 "metadata": {
  "kernelspec": {
   "display_name": "Python 3 (ipykernel)",
   "language": "python",
   "name": "python3"
  },
  "language_info": {
   "codemirror_mode": {
    "name": "ipython",
    "version": 3
   },
   "file_extension": ".py",
   "mimetype": "text/x-python",
   "name": "python",
   "nbconvert_exporter": "python",
   "pygments_lexer": "ipython3",
   "version": "3.12.6"
  }
 },
 "nbformat": 4,
 "nbformat_minor": 5
}
