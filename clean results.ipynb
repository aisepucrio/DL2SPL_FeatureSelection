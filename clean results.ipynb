{
 "cells": [
  {
   "cell_type": "code",
   "execution_count": 2,
   "id": "3b616490",
   "metadata": {},
   "outputs": [
    {
     "name": "stdout",
     "output_type": "stream",
     "text": [
      "Todos os arquivos e pastas foram excluídos.\n"
     ]
    }
   ],
   "source": [
    "import shutil\n",
    "import os\n",
    "\n",
    "# Caminho da pasta que você deseja limpar\n",
    "pasta = \"/home/jupyter-jphuser2/logs_DecisionTree_70pct_03\"\n",
    "\n",
    "# Verifica se a pasta existe antes de tentar limpar\n",
    "if os.path.exists(pasta):\n",
    "    for item in os.listdir(pasta):\n",
    "        item_path = os.path.join(pasta, item)\n",
    "        if os.path.isdir(item_path):\n",
    "            shutil.rmtree(item_path)  # Remove diretório e todo o seu conteúdo\n",
    "        else:\n",
    "            os.remove(item_path)      # Remove arquivo\n",
    "    print(\"Todos os arquivos e pastas foram excluídos.\")\n",
    "else:\n",
    "    print(\"A pasta especificada não existe.\")\n"
   ]
  },
  {
   "cell_type": "code",
   "execution_count": 3,
   "id": "796293d6",
   "metadata": {},
   "outputs": [
    {
     "name": "stdout",
     "output_type": "stream",
     "text": [
      "Arquivo logs_and_plots.zip criado com sucesso!\n"
     ]
    }
   ],
   "source": [
    "import zipfile\n",
    "import os\n",
    "\n",
    "# Nome do arquivo zip de saída\n",
    "zip_filename = 'logs_and_plots.zip'\n",
    "\n",
    "# Criar o arquivo zip\n",
    "with zipfile.ZipFile(zip_filename, 'w', zipfile.ZIP_DEFLATED) as zipf:\n",
    "    for item in os.listdir():\n",
    "        # Ignorar itens que começam com 'logs_'\n",
    "        if item.startswith('logs_'):\n",
    "            continue\n",
    "        \n",
    "        item_path = os.path.join('.', item)\n",
    "        \n",
    "        if os.path.isfile(item_path):\n",
    "            # Se for arquivo, adiciona diretamente\n",
    "            zipf.write(item_path, arcname=os.path.relpath(item_path, start='.'))\n",
    "        \n",
    "        elif os.path.isdir(item_path):\n",
    "            # Se for diretório, anda recursivamente\n",
    "            for root, dirs, files in os.walk(item_path):\n",
    "                for file in files:\n",
    "                    file_path = os.path.join(root, file)\n",
    "                    if os.path.isfile(file_path):\n",
    "                        zipf.write(file_path, arcname=os.path.relpath(file_path, start='.'))\n",
    "\n",
    "print(f'Arquivo {zip_filename} criado com sucesso!')\n"
   ]
  },
  {
   "cell_type": "code",
   "execution_count": null,
   "id": "0fd0584b-8820-4b1b-8d15-9f2251181221",
   "metadata": {},
   "outputs": [],
   "source": []
  }
 ],
 "metadata": {
  "kernelspec": {
   "display_name": "Python 3 (ipykernel)",
   "language": "python",
   "name": "python3"
  },
  "language_info": {
   "codemirror_mode": {
    "name": "ipython",
    "version": 3
   },
   "file_extension": ".py",
   "mimetype": "text/x-python",
   "name": "python",
   "nbconvert_exporter": "python",
   "pygments_lexer": "ipython3",
   "version": "3.12.6"
  }
 },
 "nbformat": 4,
 "nbformat_minor": 5
}
